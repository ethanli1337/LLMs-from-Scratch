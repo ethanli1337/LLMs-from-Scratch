{
 "cells": [
  {
   "cell_type": "code",
   "execution_count": 2,
   "id": "145873fb",
   "metadata": {},
   "outputs": [
    {
     "name": "stdout",
     "output_type": "stream",
     "text": [
      "torch version: 2.7.1\n",
      "tiktoken version: 0.9.0\n"
     ]
    }
   ],
   "source": [
    "from importlib.metadata import version\n",
    "\n",
    "print(\"torch version:\", version(\"torch\"))\n",
    "print(\"tiktoken version:\", version(\"tiktoken\"))"
   ]
  },
  {
   "cell_type": "code",
   "execution_count": 3,
   "id": "c8043c97",
   "metadata": {},
   "outputs": [],
   "source": [
    "import os \n",
    "import urllib.request \n",
    "\n",
    "\n",
    "if not os.path.exists(\"the-verdict.txt\"):\n",
    "    url = (\"https://raw.githubusercontent.com/rasbt/\"\n",
    "           \"LLMs-from-scratch/main/ch02/01_main-chapter-code/\"\n",
    "           \"the-verdict.txt\")\n",
    "    file_path = \"the-verdict.txt\"\n",
    "    urllib.request.urlretrieve(url, file_path)"
   ]
  },
  {
   "cell_type": "code",
   "execution_count": 4,
   "id": "ef4ffe16",
   "metadata": {},
   "outputs": [
    {
     "data": {
      "text/plain": [
       "20479"
      ]
     },
     "execution_count": 4,
     "metadata": {},
     "output_type": "execute_result"
    }
   ],
   "source": [
    "with open(\"the-verdict.txt\", \"r\", encoding=\"utf-8\") as f:\n",
    "    raw_text=f.read()\n",
    "\n",
    "len(raw_text)"
   ]
  },
  {
   "cell_type": "code",
   "execution_count": 5,
   "id": "e20f457e",
   "metadata": {},
   "outputs": [
    {
     "name": "stdout",
     "output_type": "stream",
     "text": [
      "['Hello,', ' ', 'world.', ' ', 'This,', ' ', 'is', ' ', 'a', ' ', 'test.']\n"
     ]
    }
   ],
   "source": [
    "import re \n",
    "\n",
    "text = \"Hello, world. This, is a test.\"\n",
    "\n",
    "result=re.split(r'(\\s)', text)\n",
    "\n",
    "print(result)"
   ]
  },
  {
   "cell_type": "code",
   "execution_count": 6,
   "id": "fce4a994",
   "metadata": {},
   "outputs": [
    {
     "data": {
      "text/plain": [
       "['Hello',\n",
       " ',',\n",
       " '',\n",
       " ' ',\n",
       " 'world',\n",
       " '.',\n",
       " '',\n",
       " ' ',\n",
       " 'This',\n",
       " ',',\n",
       " '',\n",
       " ' ',\n",
       " 'is',\n",
       " ' ',\n",
       " 'a',\n",
       " ' ',\n",
       " 'test',\n",
       " '.',\n",
       " '']"
      ]
     },
     "execution_count": 6,
     "metadata": {},
     "output_type": "execute_result"
    }
   ],
   "source": [
    "result=re.split(r'([,.]|\\s)', text)\n",
    "\n",
    "result"
   ]
  },
  {
   "cell_type": "code",
   "execution_count": 7,
   "id": "d0064dad",
   "metadata": {},
   "outputs": [
    {
     "data": {
      "text/plain": [
       "['Hello', ',', 'world', '.', 'This', ',', 'is', 'a', 'test', '.']"
      ]
     },
     "execution_count": 7,
     "metadata": {},
     "output_type": "execute_result"
    }
   ],
   "source": [
    "result = [item for item in result if item.strip()]\n",
    "result"
   ]
  },
  {
   "cell_type": "code",
   "execution_count": 8,
   "id": "72151def",
   "metadata": {},
   "outputs": [
    {
     "data": {
      "text/plain": [
       "20479"
      ]
     },
     "execution_count": 8,
     "metadata": {},
     "output_type": "execute_result"
    }
   ],
   "source": [
    "with open(\"the-verdict.txt\", \"r\", encoding=\"utf-8\") as f:\n",
    "    raw_text=f.read()\n",
    "\n",
    "len(raw_text)"
   ]
  },
  {
   "cell_type": "code",
   "execution_count": 9,
   "id": "5094b812",
   "metadata": {},
   "outputs": [
    {
     "data": {
      "text/plain": [
       "4690"
      ]
     },
     "execution_count": 9,
     "metadata": {},
     "output_type": "execute_result"
    }
   ],
   "source": [
    "text=\"Hello, world. Is this-- a test?\"\n",
    "\n",
    "result = re.split(r'([,.:;?_!\"()\\']|--|\\s)', raw_text)\n",
    "result=[item.strip() for item in result if item.strip()]\n",
    "len(result)"
   ]
  },
  {
   "cell_type": "code",
   "execution_count": 10,
   "id": "2ee2a540",
   "metadata": {},
   "outputs": [
    {
     "name": "stdout",
     "output_type": "stream",
     "text": [
      "1130\n"
     ]
    }
   ],
   "source": [
    "all_words=sorted(set(result))\n",
    "vocab_size=len(all_words)\n",
    "print(vocab_size)"
   ]
  },
  {
   "cell_type": "code",
   "execution_count": 11,
   "id": "57f396fe",
   "metadata": {},
   "outputs": [],
   "source": [
    "vocab={token:integer for integer, token in enumerate(all_words)}"
   ]
  },
  {
   "cell_type": "code",
   "execution_count": 12,
   "id": "4f090e3a",
   "metadata": {},
   "outputs": [],
   "source": [
    "class SimpleTokenizerV1:\n",
    "    def __init__(self, vocab):\n",
    "        self.str_to_int = vocab\n",
    "        self.int_to_str = {i:s for s,i in vocab.items()}\n",
    "    \n",
    "    def encode(self, text):\n",
    "        preprocessed = re.split(r'([,.:;?_!\"()\\']|--|\\s)', text)\n",
    "                                \n",
    "        preprocessed = [\n",
    "            item.strip() for item in preprocessed if item.strip()\n",
    "        ]\n",
    "\n",
    "        preprocessed=[\n",
    "            item if item in self.str_to_int\n",
    "            else \"<|unk|>\" for item in preprocessed\n",
    "        ]\n",
    "        ids = [self.str_to_int[s] for s in preprocessed]\n",
    "        return ids\n",
    "        \n",
    "    def decode(self, ids):\n",
    "        text = \" \".join([self.int_to_str[i] for i in ids])\n",
    "        # Replace spaces before the specified punctuations\n",
    "        text = re.sub(r'\\s+([,.?!\"()\\'])', r'\\1', text)\n",
    "        return text\n"
   ]
  },
  {
   "cell_type": "code",
   "execution_count": 13,
   "id": "35c62bdc",
   "metadata": {},
   "outputs": [],
   "source": [
    "tokenizer = SimpleTokenizerV1(vocab)"
   ]
  },
  {
   "cell_type": "code",
   "execution_count": 14,
   "id": "1ce5e9c8",
   "metadata": {},
   "outputs": [],
   "source": [
    "text=\"It's the last he painted, you know, Mrs. Gisburn said with pardonable pride.\""
   ]
  },
  {
   "cell_type": "code",
   "execution_count": 15,
   "id": "5f6fd753",
   "metadata": {},
   "outputs": [],
   "source": [
    "ids=tokenizer.encode(text)"
   ]
  },
  {
   "cell_type": "code",
   "execution_count": 16,
   "id": "e65591e2",
   "metadata": {},
   "outputs": [
    {
     "data": {
      "text/plain": [
       "\"It' s the last he painted, you know, Mrs. Gisburn said with pardonable pride.\""
      ]
     },
     "execution_count": 16,
     "metadata": {},
     "output_type": "execute_result"
    }
   ],
   "source": [
    "tokenizer.decode(ids)"
   ]
  },
  {
   "cell_type": "code",
   "execution_count": 17,
   "id": "f4eab560",
   "metadata": {},
   "outputs": [
    {
     "data": {
      "text/plain": [
       "1132"
      ]
     },
     "execution_count": 17,
     "metadata": {},
     "output_type": "execute_result"
    }
   ],
   "source": [
    "text=\"Hello, do you like tea. is this-- a test?\"\n",
    "\n",
    "all_tokens=sorted(list(set(result)))\n",
    "\n",
    "all_tokens.extend([\"<|endoftext|>\",\"<|unk|>\"])\n",
    "\n",
    "vocab={token:integer for integer, token in enumerate(all_tokens)}\n",
    "\n",
    "len(vocab.items())"
   ]
  },
  {
   "cell_type": "code",
   "execution_count": 18,
   "id": "906a9504",
   "metadata": {},
   "outputs": [
    {
     "data": {
      "text/plain": [
       "'<|unk|>, do you like tea. is this -- a <|unk|>?'"
      ]
     },
     "execution_count": 18,
     "metadata": {},
     "output_type": "execute_result"
    }
   ],
   "source": [
    "tokenizer2=SimpleTokenizerV1(vocab)\n",
    "\n",
    "tokenizer2.encode(text)\n",
    "tokenizer2.decode(tokenizer2.encode(text))"
   ]
  },
  {
   "cell_type": "code",
   "execution_count": 19,
   "id": "eb84c766",
   "metadata": {},
   "outputs": [
    {
     "data": {
      "text/plain": [
       "'0.9.0'"
      ]
     },
     "execution_count": 19,
     "metadata": {},
     "output_type": "execute_result"
    }
   ],
   "source": [
    "import tiktoken\n",
    "\n",
    "tiktoken.__version__\n"
   ]
  },
  {
   "cell_type": "code",
   "execution_count": 20,
   "id": "05397583",
   "metadata": {},
   "outputs": [
    {
     "data": {
      "text/plain": [
       "[15496, 995]"
      ]
     },
     "execution_count": 20,
     "metadata": {},
     "output_type": "execute_result"
    }
   ],
   "source": [
    "tokenizer=tiktoken.get_encoding(\"gpt2\")\n",
    "\n",
    "tokenizer.encode(\"Hello world\")"
   ]
  },
  {
   "cell_type": "code",
   "execution_count": 21,
   "id": "5f21868d",
   "metadata": {},
   "outputs": [
    {
     "data": {
      "text/plain": [
       "'Hello world'"
      ]
     },
     "execution_count": 21,
     "metadata": {},
     "output_type": "execute_result"
    }
   ],
   "source": [
    "tokenizer.decode(tokenizer.encode(\"Hello world\"))"
   ]
  },
  {
   "cell_type": "code",
   "execution_count": 22,
   "id": "8d9c707c",
   "metadata": {},
   "outputs": [
    {
     "data": {
      "text/plain": [
       "[15496,\n",
       " 11,\n",
       " 466,\n",
       " 345,\n",
       " 588,\n",
       " 8887,\n",
       " 30,\n",
       " 220,\n",
       " 50256,\n",
       " 43458,\n",
       " 7568,\n",
       " 264,\n",
       " 7568,\n",
       " 264,\n",
       " 7568,\n",
       " 818,\n",
       " 262,\n",
       " 4252,\n",
       " 18250,\n",
       " 8812,\n",
       " 2114,\n",
       " 1659,\n",
       " 617,\n",
       " 34680,\n",
       " 27271,\n",
       " 13]"
      ]
     },
     "execution_count": 22,
     "metadata": {},
     "output_type": "execute_result"
    }
   ],
   "source": [
    "text = ( \n",
    "    \"Hello, do you like tea? <|endoftext|> fsdf sdf sdfIn the sunlit terraces\"\n",
    "    \"of someunknownPlace.\"\n",
    ")\n",
    "\n",
    "tokenizer.encode(text, allowed_special={\"<|endoftext|>\"})"
   ]
  },
  {
   "cell_type": "code",
   "execution_count": 23,
   "id": "4e11abc6",
   "metadata": {},
   "outputs": [
    {
     "name": "stdout",
     "output_type": "stream",
     "text": [
      "5145\n"
     ]
    }
   ],
   "source": [
    "with open(\"the-verdict.txt\", \"r\", encoding=\"utf-8\") as f:\n",
    "    raw_text = f.read()\n",
    "\n",
    "enc_text = tokenizer.encode(raw_text)\n",
    "print(len(enc_text))"
   ]
  },
  {
   "cell_type": "code",
   "execution_count": 24,
   "id": "f8dc0cb8",
   "metadata": {},
   "outputs": [],
   "source": [
    "enc_sample=enc_text[50:]"
   ]
  },
  {
   "cell_type": "code",
   "execution_count": 25,
   "id": "8a02c032",
   "metadata": {},
   "outputs": [
    {
     "name": "stdout",
     "output_type": "stream",
     "text": [
      "x: [290, 4920, 2241, 287]\n",
      "y:      [4920, 2241, 287, 257]\n"
     ]
    }
   ],
   "source": [
    "enc_sample=enc_text[50:]\n",
    "\n",
    "context_size = 4\n",
    "\n",
    "x = enc_sample[:context_size]\n",
    "y = enc_sample[1:context_size+1]\n",
    "\n",
    "print(f\"x: {x}\")\n",
    "print(f\"y:      {y}\")\n",
    "\n"
   ]
  },
  {
   "cell_type": "code",
   "execution_count": 26,
   "id": "65acd3eb",
   "metadata": {},
   "outputs": [],
   "source": [
    "import torch"
   ]
  },
  {
   "cell_type": "code",
   "execution_count": 27,
   "id": "08a7d18a",
   "metadata": {},
   "outputs": [
    {
     "data": {
      "text/plain": [
       "'2.7.1+cu126'"
      ]
     },
     "execution_count": 27,
     "metadata": {},
     "output_type": "execute_result"
    }
   ],
   "source": [
    "torch.__version__"
   ]
  },
  {
   "cell_type": "code",
   "execution_count": 28,
   "id": "383ac3dc",
   "metadata": {},
   "outputs": [],
   "source": [
    "from torch.utils.data import Dataset, DataLoader\n",
    "\n",
    "\n",
    "class GPTDatasetV1(Dataset):\n",
    "    def __init__(self, txt, tokenizer, max_length, stride):\n",
    "        self.input_ids = []\n",
    "        self.target_ids = []\n",
    "\n",
    "        # Tokenize the entire text\n",
    "        token_ids = tokenizer.encode(txt, allowed_special={\"<|endoftext|>\"})\n",
    "        assert len(token_ids) > max_length, \"Number of tokenized inputs must at least be equal to max_length+1\"\n",
    "\n",
    "        # Use a sliding window to chunk the book into overlapping sequences of max_length\n",
    "        for i in range(0, len(token_ids) - max_length, stride):\n",
    "            input_chunk = token_ids[i:i + max_length]\n",
    "            target_chunk = token_ids[i + 1: i + max_length + 1]\n",
    "            self.input_ids.append(torch.tensor(input_chunk))\n",
    "            self.target_ids.append(torch.tensor(target_chunk))\n",
    "\n",
    "    def __len__(self):\n",
    "        return len(self.input_ids)\n",
    "\n",
    "    def __getitem__(self, idx):\n",
    "        return self.input_ids[idx], self.target_ids[idx]\n",
    "\n"
   ]
  },
  {
   "cell_type": "code",
   "execution_count": 29,
   "id": "e283e09a",
   "metadata": {},
   "outputs": [],
   "source": [
    "def create_dataloader_v1(txt, batch_size=4, max_length=256, \n",
    "                         stride=128, shuffle=True, drop_last=True,\n",
    "                         num_workers=0):\n",
    "\n",
    "    # Initialize the tokenizer\n",
    "    tokenizer = tiktoken.get_encoding(\"gpt2\")\n",
    "\n",
    "    # Create dataset\n",
    "    dataset = GPTDatasetV1(txt, tokenizer, max_length, stride)\n",
    "\n",
    "    # Create dataloader\n",
    "    dataloader = DataLoader(\n",
    "        dataset,\n",
    "        batch_size=batch_size,\n",
    "        shuffle=shuffle,\n",
    "        drop_last=drop_last,\n",
    "        num_workers=num_workers\n",
    "    )\n",
    "\n",
    "    return dataloader\n",
    "\n"
   ]
  },
  {
   "cell_type": "code",
   "execution_count": 30,
   "id": "10da172f",
   "metadata": {},
   "outputs": [],
   "source": [
    "with open(\"the-verdict.txt\", \"r\", encoding=\"utf-8\") as f:\n",
    "    raw_text=f.read()"
   ]
  },
  {
   "cell_type": "code",
   "execution_count": 31,
   "id": "3356d740",
   "metadata": {},
   "outputs": [
    {
     "name": "stdout",
     "output_type": "stream",
     "text": [
      "[tensor([[  40,  367, 2885, 1464]]), tensor([[ 367, 2885, 1464, 1807]])]\n",
      "[tensor([[1807, 3619,  402,  271]]), tensor([[ 3619,   402,   271, 10899]])]\n"
     ]
    }
   ],
   "source": [
    "dataloader = create_dataloader_v1(\n",
    "    raw_text, batch_size=1, max_length=4, stride=4, shuffle=False\n",
    ")\n",
    "\n",
    "data_iter = iter(dataloader)\n",
    "first_batch = next(data_iter)\n",
    "print(first_batch)\n",
    "\n",
    "first_batch = next(data_iter)\n",
    "print(first_batch)\n",
    "\n"
   ]
  },
  {
   "cell_type": "code",
   "execution_count": 32,
   "id": "959264e4",
   "metadata": {},
   "outputs": [],
   "source": [
    "input_ids=torch.tensor([1,2,3,4])\n",
    "\n",
    "\n",
    "vocab_size=6\n",
    "output_dim=3\n",
    "\n",
    "torch.manual_seed(123)\n",
    "embedding_layer=torch.nn.Embedding(tokenizer.n_vocab, output_dim)"
   ]
  },
  {
   "cell_type": "code",
   "execution_count": 33,
   "id": "21fb2067",
   "metadata": {},
   "outputs": [
    {
     "data": {
      "text/plain": [
       "tensor([[-1.1925,  0.6984, -1.4097]], grad_fn=<EmbeddingBackward0>)"
      ]
     },
     "execution_count": 33,
     "metadata": {},
     "output_type": "execute_result"
    }
   ],
   "source": [
    "embedding_layer(torch.tensor([3]))"
   ]
  },
  {
   "cell_type": "code",
   "execution_count": 34,
   "id": "888c8265",
   "metadata": {},
   "outputs": [],
   "source": [
    "vocab_size = 50257\n",
    "output_dim = 256\n",
    "\n",
    "token_embedding_layer = torch.nn.Embedding(vocab_size, output_dim)"
   ]
  },
  {
   "cell_type": "code",
   "execution_count": 35,
   "id": "05a700a0",
   "metadata": {},
   "outputs": [],
   "source": [
    "max_length = 4\n",
    "dataloader = create_dataloader_v1(\n",
    "    raw_text, batch_size=8, max_length=max_length,\n",
    "    stride=max_length, shuffle=False\n",
    ")\n",
    "data_iter = iter(dataloader)\n",
    "inputs, targets = next(data_iter)\n",
    "\n"
   ]
  },
  {
   "cell_type": "code",
   "execution_count": 37,
   "id": "84ea6ff9",
   "metadata": {},
   "outputs": [
    {
     "data": {
      "text/plain": [
       "torch.Size([8, 4, 256])"
      ]
     },
     "execution_count": 37,
     "metadata": {},
     "output_type": "execute_result"
    }
   ],
   "source": [
    "token_embeddings = token_embedding_layer(inputs)\n",
    "\n",
    "token_embeddings.shape"
   ]
  },
  {
   "cell_type": "code",
   "execution_count": 38,
   "id": "cd808055",
   "metadata": {},
   "outputs": [
    {
     "data": {
      "text/plain": [
       "tensor([ 4.5925e-01,  7.6589e-01, -1.7269e+00,  2.7519e-01,  2.3155e-01,\n",
       "        -4.7319e-01, -3.9847e-01,  1.7265e+00,  8.9715e-01, -1.0197e-01,\n",
       "         5.1204e-01, -1.6805e+00, -8.0522e-01,  1.1375e+00, -9.9466e-01,\n",
       "        -9.5338e-01,  8.3238e-01,  1.3210e+00,  9.5062e-01,  1.2799e+00,\n",
       "         1.1932e+00,  6.7199e-01, -6.2126e-01,  5.5973e-01, -6.0924e-01,\n",
       "        -9.0394e-02, -1.4039e+00, -4.1480e-01,  2.5625e-01, -9.7720e-03,\n",
       "        -2.2002e+00, -9.0485e-01, -4.2069e-01, -4.4801e-01,  9.3138e-01,\n",
       "         2.4970e+00, -7.5886e-01, -2.9304e-03,  4.6033e-01, -1.2624e+00,\n",
       "         3.7764e-01,  8.1343e-01, -1.2823e+00, -1.2091e-01, -3.3686e-01,\n",
       "         1.6070e+00, -5.9332e-01, -1.6217e+00,  1.2313e+00, -1.8392e+00,\n",
       "        -1.2068e+00, -2.5405e+00,  1.9803e+00, -1.2905e+00,  1.7485e+00,\n",
       "         8.1073e-01,  1.1342e+00, -1.7977e+00, -1.0314e+00, -1.2450e+00,\n",
       "        -8.8608e-01,  7.4233e-02,  1.0778e+00, -4.8303e-01, -5.6789e-01,\n",
       "         7.1249e-01,  8.5286e-01,  7.1491e-01, -1.0246e+00,  1.0360e+00,\n",
       "        -7.9022e-02,  6.9433e-01,  9.1927e-01, -9.4179e-01,  2.1469e-01,\n",
       "         4.5175e-01, -1.8838e+00,  7.8860e-01, -1.5495e-01, -2.6969e-01,\n",
       "         1.5069e-01,  6.1802e-01,  8.3791e-01, -2.5901e-01, -6.1770e-01,\n",
       "        -2.2325e-01,  5.0203e-01, -1.0905e+00, -7.6156e-02, -5.7430e-01,\n",
       "         4.9387e-01, -8.7234e-01,  1.9014e+00, -4.4768e-01, -9.0395e-01,\n",
       "         4.8624e-01, -1.4585e-01, -4.1042e-01,  3.8537e-01,  9.4483e-01,\n",
       "         1.0095e+00, -9.3878e-01,  1.3766e-01,  8.3255e-01, -4.1584e-01,\n",
       "         4.7599e-02,  1.5074e-01, -2.9777e-01,  7.6579e-01,  3.1539e-01,\n",
       "        -1.5585e+00,  3.6685e-01,  6.8285e-01, -4.9492e-01,  7.9220e-02,\n",
       "         6.8370e-01, -1.7110e-01, -1.5435e+00, -2.8989e-01,  1.4296e-01,\n",
       "         1.9127e+00, -8.1772e-01,  4.3898e-02, -5.4278e-02,  6.1266e-01,\n",
       "         8.6890e-01,  2.8520e-01, -6.5653e-01,  2.2849e+00,  2.2233e+00,\n",
       "        -5.8343e-01,  1.0999e+00,  4.9003e-01, -7.5572e-01,  2.3982e-01,\n",
       "        -4.9550e-01,  3.3886e-01, -5.9888e-01, -7.8609e-01,  1.4502e+00,\n",
       "        -8.4091e-01,  1.3386e+00, -3.1123e-02,  2.0583e-01, -1.6383e+00,\n",
       "         2.3473e+00,  1.1490e+00,  1.4222e+00,  3.0718e-01,  6.8453e-01,\n",
       "        -5.8569e-01, -6.1778e-01, -1.7009e+00,  3.3135e-01, -1.6501e+00,\n",
       "         2.0103e+00, -9.4383e-01,  3.2742e-01, -1.4027e+00,  5.7281e-01,\n",
       "         1.2304e+00, -2.2961e-01, -2.2881e-01, -8.4031e-03, -3.3616e-02,\n",
       "        -3.1795e-02,  8.0833e-01,  6.3799e-01, -3.9731e-01,  4.5098e-01,\n",
       "         1.4083e+00, -1.4856e-01, -2.0188e-03, -7.3130e-01,  4.0642e-01,\n",
       "         2.2990e-01,  6.0055e-01, -1.2986e+00, -1.1763e+00, -1.1519e+00,\n",
       "         5.2873e-01, -1.2192e+00, -1.6211e+00,  1.5636e+00, -4.4400e-01,\n",
       "         1.8380e+00,  1.0555e+00, -1.6660e+00, -1.3352e+00, -1.6243e+00,\n",
       "        -3.6172e-01, -2.3145e-01,  2.7427e+00, -1.3893e+00,  6.5743e-01,\n",
       "        -1.4012e+00, -6.0127e-01,  1.6266e-01, -1.2062e+00,  1.1755e+00,\n",
       "        -7.5392e-01,  7.8277e-01,  9.6894e-01,  1.5077e-01,  2.7728e-01,\n",
       "         1.4076e-01,  7.4778e-01, -9.7408e-01,  1.4746e+00, -5.0006e-01,\n",
       "        -4.6222e-01,  1.4225e+00,  2.7083e-01,  9.1951e-01, -1.9017e+00,\n",
       "         7.0021e-01,  2.7942e-01, -5.2426e-01,  1.1681e+00, -1.9275e-01,\n",
       "        -3.8936e-01,  8.8487e-01,  2.9729e-01,  8.7221e-01,  2.5490e+00,\n",
       "         4.7822e-01, -6.6949e-01, -5.1720e-03, -2.1112e-02,  8.8664e-01,\n",
       "        -2.1446e-01,  8.1042e-01, -3.7043e-02, -6.0463e-01, -2.0626e-02,\n",
       "        -4.6470e-01, -1.3271e+00, -3.9927e-01, -2.1084e+00,  2.3030e-01,\n",
       "        -1.5267e-01, -1.2099e+00, -9.9132e-01,  9.6184e-01,  4.7467e-02,\n",
       "         3.5420e-01, -8.3459e-01, -2.2958e+00,  8.7470e-01, -8.3522e-01,\n",
       "        -2.1475e+00,  1.6801e+00, -2.4127e+00, -1.6857e+00, -9.6878e-01,\n",
       "        -5.8985e-01], grad_fn=<SelectBackward0>)"
      ]
     },
     "execution_count": 38,
     "metadata": {},
     "output_type": "execute_result"
    }
   ],
   "source": [
    "token_embeddings[0, 0]"
   ]
  },
  {
   "cell_type": "code",
   "execution_count": null,
   "id": "586e2d31",
   "metadata": {},
   "outputs": [],
   "source": [
    "context_length = max_length\n",
    "pos_embedding_layer = torch.nn.Embedding(context_length, output_dim)\n",
    "\n"
   ]
  },
  {
   "cell_type": "code",
   "execution_count": 41,
   "id": "0ab014b8",
   "metadata": {},
   "outputs": [],
   "source": [
    "torch.arange(max_length)\n",
    "\n",
    "pos_embeddings=pos_embedding_layer(torch.arange(max_length))\n",
    "\n",
    "input_embeddings=token_embeddings+pos_embeddings"
   ]
  }
 ],
 "metadata": {
  "kernelspec": {
   "display_name": "llmsenv",
   "language": "python",
   "name": "python3"
  },
  "language_info": {
   "codemirror_mode": {
    "name": "ipython",
    "version": 3
   },
   "file_extension": ".py",
   "mimetype": "text/x-python",
   "name": "python",
   "nbconvert_exporter": "python",
   "pygments_lexer": "ipython3",
   "version": "3.12.3"
  }
 },
 "nbformat": 4,
 "nbformat_minor": 5
}
